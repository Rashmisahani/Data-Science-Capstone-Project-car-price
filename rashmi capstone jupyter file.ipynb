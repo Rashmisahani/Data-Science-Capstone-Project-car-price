{
 "cells": [
  {
   "cell_type": "markdown",
   "id": "914242cd",
   "metadata": {},
   "source": [
    " <font color=\"MediumOrchid\">\n",
    "<h3>Data Science with Python Career Program Capstone Project <br>\n",
    "\n",
    "<h4><font color=\"Purple\">\n",
    "project Submission - (Rashmi sahani)<br><br>\n",
    "Email: rashmisahani798@gmail.com<br><br>\n",
    "Course: Data Science with Python Career Program (ChatGPT Included)"
   ]
  },
  {
   "cell_type": "code",
   "execution_count": null,
   "id": "1b975c23",
   "metadata": {},
   "outputs": [],
   "source": []
  },
  {
   "cell_type": "code",
   "execution_count": null,
   "id": "dcf78cbb",
   "metadata": {},
   "outputs": [],
   "source": []
  },
  {
   "cell_type": "code",
   "execution_count": null,
   "id": "1761f8d1",
   "metadata": {},
   "outputs": [],
   "source": []
  },
  {
   "cell_type": "markdown",
   "id": "7e16e068",
   "metadata": {},
   "source": [
    "<font color=\"MediumOrchid\">\n",
    "<b>project overview : "
   ]
  },
  {
   "cell_type": "markdown",
   "id": "55756ea4",
   "metadata": {},
   "source": [
    "<font color=\"RebeccaPurple\">\n",
    "\n",
    "<b>Capstone Project: Car Price Prediction\n",
    "\n",
    "This project aims to develop a machine learning model to predict the selling price of used<br>\n",
    "cars based on various features such as the car's year, mileage, fuel type, transmission, and more.<br> \n",
    "The goal is to provide accurate price estimates that can help buyers and sellers make informed decisions."
   ]
  },
  {
   "cell_type": "markdown",
   "id": "5bb9e3f8",
   "metadata": {},
   "source": [
    "<font color=\"RebeccaPurple\">\n",
    "\n",
    "<b>Problem Statement <br>\n",
    "\n",
    "Perform EDA and derive insights from the CAR DETAILS dataset using various data analysis and data<br>\n",
    "visualization libraries of Python, such as Pandas, Matplotlib, and Seaborn. Create and deploy an ML<br>\n",
    "model which can be accessed by all, using Streamlit and GitHub."
   ]
  },
  {
   "cell_type": "markdown",
   "id": "02541c78",
   "metadata": {},
   "source": [
    "<font color=\"RebeccaPurple\">\n",
    "\n",
    "<b>Introduction and Objectives<b><br>\n",
    "\n",
    "The automotive market has seen a growing demand for used cars, driven by economic considerations and the availability of certified pre-owned programs. However, one of the most significant challenges faced by both buyers and sellers is determining the fair market value of a used car. The objective of this project is to build a machine learning model capable of predicting the selling price of used cars with high accuracy.\n",
    "\n",
    "<b>Project Objectives\n",
    "- To preprocess the dataset, including handling missing and duplicate values, encoding categorical variables, and scaling   numerical features.\n",
    "- To perform exploratory data analysis (EDA) to identify patterns and insights.\n",
    "- To build, train, and evaluate multiple regression models and select the best-performing model.\n",
    "- To optimize the selected model using hyperparameter tuning techniques.\n",
    "- To deploy the final model using Streamlit for real-time predictions."
   ]
  },
  {
   "cell_type": "markdown",
   "id": "45790a72",
   "metadata": {},
   "source": [
    "<font color=\"MediumOrchid\">\n",
    "\n",
    "<b>steps <br><br>\n",
    "    \n",
    "<font color=\"RebeccaPurple\">\n",
    "    \n",
    "1. Import necessary libraries & load the dataset<br><br>\n",
    "    \n",
    "2. Data Preprocessing <br>\n",
    "   - Handling Null Values\n",
    "   - Handling Duplicate Values\n",
    "   - Data Type Checking and Conversion\n",
    "   - Data Consistency Check\n",
    "   - Feature Engineering\n",
    "   - Encoding Categorical Data\n",
    "   - Outlier Treatment\n",
    "   - Data Scaling <br><br>\n",
    "    \n",
    "3. Exploratory Data Analysis (EDA)\n",
    "    <br>\n",
    "4. Model Building\n",
    "    \n",
    "   - Model Training and Evaluation\n",
    "   - Hyperparameter Tuning\n",
    "   - Model Retraining and Final Evaluation<br><br>\n",
    "    \n",
    "5. Model Deployment<br>\n",
    "   - Saving the Model\n",
    "   - Creating a Streamlit App<br><br>\n",
    "   \n",
    "6. Conclusion and Future Work<br><br>\n",
    "    \n",
    "7. References\n"
   ]
  },
  {
   "cell_type": "markdown",
   "id": "5d611140",
   "metadata": {},
   "source": [
    "<font color=\"MediumOrchid\">\n",
    "\n",
    "<b>Dataset Overview<br><br>\n",
    "\n",
    "<font color=\"RebeccaPurple\">\n",
    "\n",
    "The dataset used in this project is titled \"CAR DETAILS,\" which contains various features of used cars, including:\n",
    "- Name: The brand and model of the car.\n",
    "- Year: The year in which the car was purchased.\n",
    "- Selling Price: The price at which the car is being sold (target variable).\n",
    "- Present Price: The current ex-showroom price of the car.\n",
    "- Kilometers Driven: The total distance the car has been driven in kilometers.\n",
    "- Fuel Type: The type of fuel the car uses (Petrol, Diesel, CNG, etc.).\n",
    "- Seller Type: Whether the seller is a dealer or an individual.\n",
    "- Transmission: The type of transmission in the car (Manual or Automatic).\n",
    "- Owner:The number of previous owners of the car.\n",
    "\n",
    "<b>The dataset is publicly available and can be downloaded [CAR DETAILS DATASET](https://drive.google.com/uc?export=download&id=17KxRuOK4uONRZyfYNgjoX62y2yO5KpLY)\n",
    "\n"
   ]
  },
  {
   "cell_type": "code",
   "execution_count": null,
   "id": "c6d6e39e",
   "metadata": {},
   "outputs": [],
   "source": []
  },
  {
   "cell_type": "code",
   "execution_count": 1,
   "id": "8bc3373e",
   "metadata": {},
   "outputs": [],
   "source": [
    "# --------------------------------Begin to the coding section --------------------------------"
   ]
  },
  {
   "cell_type": "markdown",
   "id": "d309be3f",
   "metadata": {},
   "source": [
    "<font color=\"Mediumpurple\">\n",
    "<b>Load the Dataset and Libraries\n",
    "\n"
   ]
  },
  {
   "cell_type": "code",
   "execution_count": 2,
   "id": "806336cc",
   "metadata": {},
   "outputs": [],
   "source": [
    "# Import necessary libraries\n",
    "import pandas as pd\n",
    "import numpy as np\n",
    "from sklearn.model_selection import train_test_split\n",
    "from sklearn.preprocessing import StandardScaler, OneHotEncoder\n",
    "from sklearn.compose import ColumnTransformer\n",
    "from sklearn.pipeline import Pipeline\n",
    "from sklearn.impute import SimpleImputer\n",
    "from sklearn.linear_model import LinearRegression, Ridge, Lasso\n",
    "from sklearn.tree import DecisionTreeRegressor\n",
    "from sklearn.neighbors import KNeighborsRegressor\n",
    "from sklearn.ensemble import RandomForestRegressor, AdaBoostRegressor\n",
    "from xgboost import XGBRegressor\n",
    "from sklearn.metrics import mean_squared_error, r2_score\n",
    "from sklearn.model_selection import GridSearchCV\n",
    "import pickle\n",
    "\n",
    "# Load the dataset\n",
    "\n",
    "df = pd.read_csv(\"F:\\\\skill acedemy\\\\capstone project\\\\capstone_project data science\\\\CAR DETAILS.csv\")\n",
    "\n",
    "\n"
   ]
  },
  {
   "cell_type": "markdown",
   "id": "888a4fe5",
   "metadata": {},
   "source": [
    "<font color=\"DarkOrange\">\n",
    "<b>Display dataset"
   ]
  },
  {
   "cell_type": "code",
   "execution_count": 3,
   "id": "20bae806",
   "metadata": {},
   "outputs": [
    {
     "data": {
      "text/html": [
       "<div>\n",
       "<style scoped>\n",
       "    .dataframe tbody tr th:only-of-type {\n",
       "        vertical-align: middle;\n",
       "    }\n",
       "\n",
       "    .dataframe tbody tr th {\n",
       "        vertical-align: top;\n",
       "    }\n",
       "\n",
       "    .dataframe thead th {\n",
       "        text-align: right;\n",
       "    }\n",
       "</style>\n",
       "<table border=\"1\" class=\"dataframe\">\n",
       "  <thead>\n",
       "    <tr style=\"text-align: right;\">\n",
       "      <th></th>\n",
       "      <th>name</th>\n",
       "      <th>year</th>\n",
       "      <th>selling_price</th>\n",
       "      <th>km_driven</th>\n",
       "      <th>fuel</th>\n",
       "      <th>seller_type</th>\n",
       "      <th>transmission</th>\n",
       "      <th>owner</th>\n",
       "    </tr>\n",
       "  </thead>\n",
       "  <tbody>\n",
       "    <tr>\n",
       "      <th>0</th>\n",
       "      <td>Maruti 800 AC</td>\n",
       "      <td>2007</td>\n",
       "      <td>60000</td>\n",
       "      <td>70000</td>\n",
       "      <td>Petrol</td>\n",
       "      <td>Individual</td>\n",
       "      <td>Manual</td>\n",
       "      <td>First Owner</td>\n",
       "    </tr>\n",
       "    <tr>\n",
       "      <th>1</th>\n",
       "      <td>Maruti Wagon R LXI Minor</td>\n",
       "      <td>2007</td>\n",
       "      <td>135000</td>\n",
       "      <td>50000</td>\n",
       "      <td>Petrol</td>\n",
       "      <td>Individual</td>\n",
       "      <td>Manual</td>\n",
       "      <td>First Owner</td>\n",
       "    </tr>\n",
       "    <tr>\n",
       "      <th>2</th>\n",
       "      <td>Hyundai Verna 1.6 SX</td>\n",
       "      <td>2012</td>\n",
       "      <td>600000</td>\n",
       "      <td>100000</td>\n",
       "      <td>Diesel</td>\n",
       "      <td>Individual</td>\n",
       "      <td>Manual</td>\n",
       "      <td>First Owner</td>\n",
       "    </tr>\n",
       "    <tr>\n",
       "      <th>3</th>\n",
       "      <td>Datsun RediGO T Option</td>\n",
       "      <td>2017</td>\n",
       "      <td>250000</td>\n",
       "      <td>46000</td>\n",
       "      <td>Petrol</td>\n",
       "      <td>Individual</td>\n",
       "      <td>Manual</td>\n",
       "      <td>First Owner</td>\n",
       "    </tr>\n",
       "    <tr>\n",
       "      <th>4</th>\n",
       "      <td>Honda Amaze VX i-DTEC</td>\n",
       "      <td>2014</td>\n",
       "      <td>450000</td>\n",
       "      <td>141000</td>\n",
       "      <td>Diesel</td>\n",
       "      <td>Individual</td>\n",
       "      <td>Manual</td>\n",
       "      <td>Second Owner</td>\n",
       "    </tr>\n",
       "  </tbody>\n",
       "</table>\n",
       "</div>"
      ],
      "text/plain": [
       "                       name  year  selling_price  km_driven    fuel  \\\n",
       "0             Maruti 800 AC  2007          60000      70000  Petrol   \n",
       "1  Maruti Wagon R LXI Minor  2007         135000      50000  Petrol   \n",
       "2      Hyundai Verna 1.6 SX  2012         600000     100000  Diesel   \n",
       "3    Datsun RediGO T Option  2017         250000      46000  Petrol   \n",
       "4     Honda Amaze VX i-DTEC  2014         450000     141000  Diesel   \n",
       "\n",
       "  seller_type transmission         owner  \n",
       "0  Individual       Manual   First Owner  \n",
       "1  Individual       Manual   First Owner  \n",
       "2  Individual       Manual   First Owner  \n",
       "3  Individual       Manual   First Owner  \n",
       "4  Individual       Manual  Second Owner  "
      ]
     },
     "execution_count": 3,
     "metadata": {},
     "output_type": "execute_result"
    }
   ],
   "source": [
    "df.head()"
   ]
  },
  {
   "cell_type": "code",
   "execution_count": 4,
   "id": "c13f2b28",
   "metadata": {},
   "outputs": [
    {
     "data": {
      "text/plain": [
       "(4340, 8)"
      ]
     },
     "execution_count": 4,
     "metadata": {},
     "output_type": "execute_result"
    }
   ],
   "source": [
    "df.shape"
   ]
  },
  {
   "cell_type": "code",
   "execution_count": 5,
   "id": "e1aaf8a8",
   "metadata": {},
   "outputs": [
    {
     "data": {
      "text/plain": [
       "owner\n",
       "First Owner             2832\n",
       "Second Owner            1106\n",
       "Third Owner              304\n",
       "Fourth & Above Owner      81\n",
       "Test Drive Car            17\n",
       "Name: count, dtype: int64"
      ]
     },
     "execution_count": 5,
     "metadata": {},
     "output_type": "execute_result"
    }
   ],
   "source": [
    "df['owner'].value_counts()"
   ]
  },
  {
   "cell_type": "code",
   "execution_count": 6,
   "id": "1298e7cc",
   "metadata": {},
   "outputs": [
    {
     "data": {
      "text/plain": [
       "seller_type\n",
       "Individual          3244\n",
       "Dealer               994\n",
       "Trustmark Dealer     102\n",
       "Name: count, dtype: int64"
      ]
     },
     "execution_count": 6,
     "metadata": {},
     "output_type": "execute_result"
    }
   ],
   "source": [
    "df['seller_type'].value_counts()"
   ]
  },
  {
   "cell_type": "code",
   "execution_count": 7,
   "id": "bdc6d71d",
   "metadata": {},
   "outputs": [
    {
     "data": {
      "text/html": [
       "<div>\n",
       "<style scoped>\n",
       "    .dataframe tbody tr th:only-of-type {\n",
       "        vertical-align: middle;\n",
       "    }\n",
       "\n",
       "    .dataframe tbody tr th {\n",
       "        vertical-align: top;\n",
       "    }\n",
       "\n",
       "    .dataframe thead th {\n",
       "        text-align: right;\n",
       "    }\n",
       "</style>\n",
       "<table border=\"1\" class=\"dataframe\">\n",
       "  <thead>\n",
       "    <tr style=\"text-align: right;\">\n",
       "      <th>owner</th>\n",
       "      <th>First Owner</th>\n",
       "      <th>Fourth &amp; Above Owner</th>\n",
       "      <th>Second Owner</th>\n",
       "      <th>Test Drive Car</th>\n",
       "      <th>Third Owner</th>\n",
       "    </tr>\n",
       "    <tr>\n",
       "      <th>seller_type</th>\n",
       "      <th></th>\n",
       "      <th></th>\n",
       "      <th></th>\n",
       "      <th></th>\n",
       "      <th></th>\n",
       "    </tr>\n",
       "  </thead>\n",
       "  <tbody>\n",
       "    <tr>\n",
       "      <th>Dealer</th>\n",
       "      <td>844</td>\n",
       "      <td>2</td>\n",
       "      <td>122</td>\n",
       "      <td>17</td>\n",
       "      <td>9</td>\n",
       "    </tr>\n",
       "    <tr>\n",
       "      <th>Individual</th>\n",
       "      <td>1890</td>\n",
       "      <td>79</td>\n",
       "      <td>980</td>\n",
       "      <td>0</td>\n",
       "      <td>295</td>\n",
       "    </tr>\n",
       "    <tr>\n",
       "      <th>Trustmark Dealer</th>\n",
       "      <td>98</td>\n",
       "      <td>0</td>\n",
       "      <td>4</td>\n",
       "      <td>0</td>\n",
       "      <td>0</td>\n",
       "    </tr>\n",
       "  </tbody>\n",
       "</table>\n",
       "</div>"
      ],
      "text/plain": [
       "owner             First Owner  Fourth & Above Owner  Second Owner  \\\n",
       "seller_type                                                         \n",
       "Dealer                    844                     2           122   \n",
       "Individual               1890                    79           980   \n",
       "Trustmark Dealer           98                     0             4   \n",
       "\n",
       "owner             Test Drive Car  Third Owner  \n",
       "seller_type                                    \n",
       "Dealer                        17            9  \n",
       "Individual                     0          295  \n",
       "Trustmark Dealer               0            0  "
      ]
     },
     "execution_count": 7,
     "metadata": {},
     "output_type": "execute_result"
    }
   ],
   "source": [
    "pd.crosstab(df['seller_type'],df['owner'])"
   ]
  },
  {
   "cell_type": "code",
   "execution_count": 8,
   "id": "b151b0ff",
   "metadata": {},
   "outputs": [
    {
     "data": {
      "text/plain": [
       "fuel\n",
       "Diesel      2153\n",
       "Petrol      2123\n",
       "CNG           40\n",
       "LPG           23\n",
       "Electric       1\n",
       "Name: count, dtype: int64"
      ]
     },
     "execution_count": 8,
     "metadata": {},
     "output_type": "execute_result"
    }
   ],
   "source": [
    "df['fuel'].value_counts()"
   ]
  },
  {
   "cell_type": "code",
   "execution_count": 9,
   "id": "4d6116ac",
   "metadata": {},
   "outputs": [
    {
     "data": {
      "text/plain": [
       "transmission\n",
       "Manual       3892\n",
       "Automatic     448\n",
       "Name: count, dtype: int64"
      ]
     },
     "execution_count": 9,
     "metadata": {},
     "output_type": "execute_result"
    }
   ],
   "source": [
    "df['transmission'].value_counts()"
   ]
  },
  {
   "cell_type": "markdown",
   "id": "c64e24d0",
   "metadata": {},
   "source": [
    "<font color=\"Mediumpurple\">\n",
    "<b>Data Preprocessing\n"
   ]
  },
  {
   "cell_type": "markdown",
   "id": "bf4bf01d",
   "metadata": {},
   "source": [
    "<font color=\"DarkOrange\">\n",
    "<b>Handling Null Values\n"
   ]
  },
  {
   "cell_type": "code",
   "execution_count": 10,
   "id": "e87daaf2",
   "metadata": {},
   "outputs": [
    {
     "data": {
      "text/plain": [
       "name             0\n",
       "year             0\n",
       "selling_price    0\n",
       "km_driven        0\n",
       "fuel             0\n",
       "seller_type      0\n",
       "transmission     0\n",
       "owner            0\n",
       "dtype: int64"
      ]
     },
     "execution_count": 10,
     "metadata": {},
     "output_type": "execute_result"
    }
   ],
   "source": [
    "df.isnull().sum()"
   ]
  },
  {
   "cell_type": "code",
   "execution_count": 11,
   "id": "db91bd1c",
   "metadata": {},
   "outputs": [],
   "source": [
    "# null values not found in this dataset."
   ]
  },
  {
   "cell_type": "markdown",
   "id": "b9b11e1b",
   "metadata": {},
   "source": [
    "<font color=\"DarkOrange\">\n",
    "<b>Handling Duplicate Values"
   ]
  },
  {
   "cell_type": "code",
   "execution_count": 12,
   "id": "324d3306",
   "metadata": {},
   "outputs": [
    {
     "data": {
      "text/plain": [
       "0       False\n",
       "1       False\n",
       "2       False\n",
       "3       False\n",
       "4       False\n",
       "        ...  \n",
       "4335    False\n",
       "4336    False\n",
       "4337    False\n",
       "4338    False\n",
       "4339    False\n",
       "Length: 4340, dtype: bool"
      ]
     },
     "execution_count": 12,
     "metadata": {},
     "output_type": "execute_result"
    }
   ],
   "source": [
    "df.duplicated()"
   ]
  },
  {
   "cell_type": "code",
   "execution_count": 13,
   "id": "3246d3da",
   "metadata": {},
   "outputs": [
    {
     "data": {
      "text/plain": [
       "763"
      ]
     },
     "execution_count": 13,
     "metadata": {},
     "output_type": "execute_result"
    }
   ],
   "source": [
    "df.duplicated().sum()"
   ]
  },
  {
   "cell_type": "code",
   "execution_count": 14,
   "id": "90473a0c",
   "metadata": {},
   "outputs": [
    {
     "data": {
      "text/plain": [
       "(4340, 8)"
      ]
     },
     "execution_count": 14,
     "metadata": {},
     "output_type": "execute_result"
    }
   ],
   "source": [
    "df.shape"
   ]
  },
  {
   "cell_type": "markdown",
   "id": "934dc698",
   "metadata": {},
   "source": [
    "<font color=\"DarkOrange\">\n",
    "<B>check data types"
   ]
  },
  {
   "cell_type": "code",
   "execution_count": 15,
   "id": "beaf44c4",
   "metadata": {},
   "outputs": [
    {
     "data": {
      "text/plain": [
       "name             object\n",
       "year              int64\n",
       "selling_price     int64\n",
       "km_driven         int64\n",
       "fuel             object\n",
       "seller_type      object\n",
       "transmission     object\n",
       "owner            object\n",
       "dtype: object"
      ]
     },
     "execution_count": 15,
     "metadata": {},
     "output_type": "execute_result"
    }
   ],
   "source": [
    "df.dtypes"
   ]
  },
  {
   "cell_type": "markdown",
   "id": "807baf0a",
   "metadata": {},
   "source": [
    "<font color=\"DarkOrange\">\n",
    "<b>Check Data Consistency"
   ]
  },
  {
   "cell_type": "code",
   "execution_count": 16,
   "id": "b047ab6a",
   "metadata": {},
   "outputs": [
    {
     "name": "stdout",
     "output_type": "stream",
     "text": [
      "              year  selling_price      km_driven\n",
      "count  4340.000000   4.340000e+03    4340.000000\n",
      "mean   2013.090783   5.041273e+05   66215.777419\n",
      "std       4.215344   5.785487e+05   46644.102194\n",
      "min    1992.000000   2.000000e+04       1.000000\n",
      "25%    2011.000000   2.087498e+05   35000.000000\n",
      "50%    2014.000000   3.500000e+05   60000.000000\n",
      "75%    2016.000000   6.000000e+05   90000.000000\n",
      "max    2020.000000   8.900000e+06  806599.000000\n"
     ]
    }
   ],
   "source": [
    "# Check for logical inconsistencies\n",
    "\n",
    "df = df[(df['selling_price'] > 0) & (df['km_driven'] > 0)]\n",
    "print(df.describe())\n"
   ]
  },
  {
   "cell_type": "code",
   "execution_count": 17,
   "id": "241a198b",
   "metadata": {},
   "outputs": [],
   "source": [
    "# there is no negative value or inconsistent data found in num column."
   ]
  },
  {
   "cell_type": "code",
   "execution_count": 18,
   "id": "d63593ec",
   "metadata": {},
   "outputs": [
    {
     "data": {
      "text/html": [
       "<div>\n",
       "<style scoped>\n",
       "    .dataframe tbody tr th:only-of-type {\n",
       "        vertical-align: middle;\n",
       "    }\n",
       "\n",
       "    .dataframe tbody tr th {\n",
       "        vertical-align: top;\n",
       "    }\n",
       "\n",
       "    .dataframe thead th {\n",
       "        text-align: right;\n",
       "    }\n",
       "</style>\n",
       "<table border=\"1\" class=\"dataframe\">\n",
       "  <thead>\n",
       "    <tr style=\"text-align: right;\">\n",
       "      <th></th>\n",
       "      <th>name</th>\n",
       "      <th>year</th>\n",
       "      <th>selling_price</th>\n",
       "      <th>km_driven</th>\n",
       "      <th>fuel</th>\n",
       "      <th>seller_type</th>\n",
       "      <th>transmission</th>\n",
       "      <th>owner</th>\n",
       "    </tr>\n",
       "  </thead>\n",
       "  <tbody>\n",
       "    <tr>\n",
       "      <th>0</th>\n",
       "      <td>Maruti 800 AC</td>\n",
       "      <td>2007</td>\n",
       "      <td>60000</td>\n",
       "      <td>70000</td>\n",
       "      <td>Petrol</td>\n",
       "      <td>Individual</td>\n",
       "      <td>Manual</td>\n",
       "      <td>First Owner</td>\n",
       "    </tr>\n",
       "    <tr>\n",
       "      <th>1</th>\n",
       "      <td>Maruti Wagon R LXI Minor</td>\n",
       "      <td>2007</td>\n",
       "      <td>135000</td>\n",
       "      <td>50000</td>\n",
       "      <td>Petrol</td>\n",
       "      <td>Individual</td>\n",
       "      <td>Manual</td>\n",
       "      <td>First Owner</td>\n",
       "    </tr>\n",
       "  </tbody>\n",
       "</table>\n",
       "</div>"
      ],
      "text/plain": [
       "                       name  year  selling_price  km_driven    fuel  \\\n",
       "0             Maruti 800 AC  2007          60000      70000  Petrol   \n",
       "1  Maruti Wagon R LXI Minor  2007         135000      50000  Petrol   \n",
       "\n",
       "  seller_type transmission        owner  \n",
       "0  Individual       Manual  First Owner  \n",
       "1  Individual       Manual  First Owner  "
      ]
     },
     "execution_count": 18,
     "metadata": {},
     "output_type": "execute_result"
    }
   ],
   "source": [
    "df.head(2)"
   ]
  },
  {
   "cell_type": "code",
   "execution_count": 19,
   "id": "b189cef3",
   "metadata": {},
   "outputs": [
    {
     "data": {
      "text/plain": [
       "array(['Manual', 'Automatic'], dtype=object)"
      ]
     },
     "execution_count": 19,
     "metadata": {},
     "output_type": "execute_result"
    }
   ],
   "source": [
    "df.transmission.unique()\n"
   ]
  },
  {
   "cell_type": "code",
   "execution_count": 20,
   "id": "88766994",
   "metadata": {},
   "outputs": [
    {
     "data": {
      "text/plain": [
       "array(['Individual', 'Dealer', 'Trustmark Dealer'], dtype=object)"
      ]
     },
     "execution_count": 20,
     "metadata": {},
     "output_type": "execute_result"
    }
   ],
   "source": [
    "df.seller_type.unique()\n"
   ]
  },
  {
   "cell_type": "code",
   "execution_count": 21,
   "id": "9e18d21f",
   "metadata": {},
   "outputs": [
    {
     "data": {
      "text/plain": [
       "array(['First Owner', 'Second Owner', 'Fourth & Above Owner',\n",
       "       'Third Owner', 'Test Drive Car'], dtype=object)"
      ]
     },
     "execution_count": 21,
     "metadata": {},
     "output_type": "execute_result"
    }
   ],
   "source": [
    "df.owner.unique()\n"
   ]
  },
  {
   "cell_type": "code",
   "execution_count": 22,
   "id": "82ced684",
   "metadata": {},
   "outputs": [
    {
     "data": {
      "text/plain": [
       "array([2007, 2012, 2017, 2014, 2016, 2015, 2018, 2019, 2013, 2011, 2010,\n",
       "       2009, 2006, 1996, 2005, 2008, 2004, 1998, 2003, 2002, 2020, 2000,\n",
       "       1999, 2001, 1995, 1997, 1992], dtype=int64)"
      ]
     },
     "execution_count": 22,
     "metadata": {},
     "output_type": "execute_result"
    }
   ],
   "source": [
    "df.year.unique()\n"
   ]
  },
  {
   "cell_type": "code",
   "execution_count": 23,
   "id": "17344e59",
   "metadata": {},
   "outputs": [
    {
     "data": {
      "text/plain": [
       "array(['Petrol', 'Diesel', 'CNG', 'LPG', 'Electric'], dtype=object)"
      ]
     },
     "execution_count": 23,
     "metadata": {},
     "output_type": "execute_result"
    }
   ],
   "source": [
    "df.fuel.unique()"
   ]
  },
  {
   "cell_type": "code",
   "execution_count": 24,
   "id": "c8dd4abe",
   "metadata": {},
   "outputs": [
    {
     "data": {
      "text/plain": [
       "year\n",
       "1992      1\n",
       "1995      1\n",
       "1996      2\n",
       "1997      3\n",
       "1998     12\n",
       "1999     10\n",
       "2000     12\n",
       "2001     20\n",
       "2002     21\n",
       "2003     23\n",
       "2004     42\n",
       "2005     85\n",
       "2006    110\n",
       "2007    134\n",
       "2008    145\n",
       "2009    193\n",
       "2010    234\n",
       "2011    271\n",
       "2012    415\n",
       "2013    386\n",
       "2014    367\n",
       "2015    421\n",
       "2016    357\n",
       "2017    466\n",
       "2018    366\n",
       "2019    195\n",
       "2020     48\n",
       "Name: count, dtype: int64"
      ]
     },
     "execution_count": 24,
     "metadata": {},
     "output_type": "execute_result"
    }
   ],
   "source": [
    "df['year'].value_counts().sort_index()"
   ]
  },
  {
   "cell_type": "markdown",
   "id": "3ed2f745",
   "metadata": {},
   "source": [
    "<font color=\"DarkOrange\">\n",
    "<b>Feature Engineering"
   ]
  },
  {
   "cell_type": "code",
   "execution_count": 25,
   "id": "f6663ebb",
   "metadata": {},
   "outputs": [
    {
     "data": {
      "text/html": [
       "<div>\n",
       "<style scoped>\n",
       "    .dataframe tbody tr th:only-of-type {\n",
       "        vertical-align: middle;\n",
       "    }\n",
       "\n",
       "    .dataframe tbody tr th {\n",
       "        vertical-align: top;\n",
       "    }\n",
       "\n",
       "    .dataframe thead th {\n",
       "        text-align: right;\n",
       "    }\n",
       "</style>\n",
       "<table border=\"1\" class=\"dataframe\">\n",
       "  <thead>\n",
       "    <tr style=\"text-align: right;\">\n",
       "      <th></th>\n",
       "      <th>name</th>\n",
       "      <th>year</th>\n",
       "      <th>selling_price</th>\n",
       "      <th>km_driven</th>\n",
       "      <th>fuel</th>\n",
       "      <th>seller_type</th>\n",
       "      <th>transmission</th>\n",
       "      <th>owner</th>\n",
       "      <th>brand</th>\n",
       "    </tr>\n",
       "  </thead>\n",
       "  <tbody>\n",
       "    <tr>\n",
       "      <th>0</th>\n",
       "      <td>Maruti 800 AC</td>\n",
       "      <td>2007</td>\n",
       "      <td>60000</td>\n",
       "      <td>70000</td>\n",
       "      <td>Petrol</td>\n",
       "      <td>Individual</td>\n",
       "      <td>Manual</td>\n",
       "      <td>First Owner</td>\n",
       "      <td>Maruti</td>\n",
       "    </tr>\n",
       "    <tr>\n",
       "      <th>1</th>\n",
       "      <td>Maruti Wagon R LXI Minor</td>\n",
       "      <td>2007</td>\n",
       "      <td>135000</td>\n",
       "      <td>50000</td>\n",
       "      <td>Petrol</td>\n",
       "      <td>Individual</td>\n",
       "      <td>Manual</td>\n",
       "      <td>First Owner</td>\n",
       "      <td>Maruti</td>\n",
       "    </tr>\n",
       "    <tr>\n",
       "      <th>2</th>\n",
       "      <td>Hyundai Verna 1.6 SX</td>\n",
       "      <td>2012</td>\n",
       "      <td>600000</td>\n",
       "      <td>100000</td>\n",
       "      <td>Diesel</td>\n",
       "      <td>Individual</td>\n",
       "      <td>Manual</td>\n",
       "      <td>First Owner</td>\n",
       "      <td>Hyundai</td>\n",
       "    </tr>\n",
       "    <tr>\n",
       "      <th>3</th>\n",
       "      <td>Datsun RediGO T Option</td>\n",
       "      <td>2017</td>\n",
       "      <td>250000</td>\n",
       "      <td>46000</td>\n",
       "      <td>Petrol</td>\n",
       "      <td>Individual</td>\n",
       "      <td>Manual</td>\n",
       "      <td>First Owner</td>\n",
       "      <td>Datsun</td>\n",
       "    </tr>\n",
       "    <tr>\n",
       "      <th>4</th>\n",
       "      <td>Honda Amaze VX i-DTEC</td>\n",
       "      <td>2014</td>\n",
       "      <td>450000</td>\n",
       "      <td>141000</td>\n",
       "      <td>Diesel</td>\n",
       "      <td>Individual</td>\n",
       "      <td>Manual</td>\n",
       "      <td>Second Owner</td>\n",
       "      <td>Honda</td>\n",
       "    </tr>\n",
       "    <tr>\n",
       "      <th>...</th>\n",
       "      <td>...</td>\n",
       "      <td>...</td>\n",
       "      <td>...</td>\n",
       "      <td>...</td>\n",
       "      <td>...</td>\n",
       "      <td>...</td>\n",
       "      <td>...</td>\n",
       "      <td>...</td>\n",
       "      <td>...</td>\n",
       "    </tr>\n",
       "    <tr>\n",
       "      <th>4335</th>\n",
       "      <td>Hyundai i20 Magna 1.4 CRDi (Diesel)</td>\n",
       "      <td>2014</td>\n",
       "      <td>409999</td>\n",
       "      <td>80000</td>\n",
       "      <td>Diesel</td>\n",
       "      <td>Individual</td>\n",
       "      <td>Manual</td>\n",
       "      <td>Second Owner</td>\n",
       "      <td>Hyundai</td>\n",
       "    </tr>\n",
       "    <tr>\n",
       "      <th>4336</th>\n",
       "      <td>Hyundai i20 Magna 1.4 CRDi</td>\n",
       "      <td>2014</td>\n",
       "      <td>409999</td>\n",
       "      <td>80000</td>\n",
       "      <td>Diesel</td>\n",
       "      <td>Individual</td>\n",
       "      <td>Manual</td>\n",
       "      <td>Second Owner</td>\n",
       "      <td>Hyundai</td>\n",
       "    </tr>\n",
       "    <tr>\n",
       "      <th>4337</th>\n",
       "      <td>Maruti 800 AC BSIII</td>\n",
       "      <td>2009</td>\n",
       "      <td>110000</td>\n",
       "      <td>83000</td>\n",
       "      <td>Petrol</td>\n",
       "      <td>Individual</td>\n",
       "      <td>Manual</td>\n",
       "      <td>Second Owner</td>\n",
       "      <td>Maruti</td>\n",
       "    </tr>\n",
       "    <tr>\n",
       "      <th>4338</th>\n",
       "      <td>Hyundai Creta 1.6 CRDi SX Option</td>\n",
       "      <td>2016</td>\n",
       "      <td>865000</td>\n",
       "      <td>90000</td>\n",
       "      <td>Diesel</td>\n",
       "      <td>Individual</td>\n",
       "      <td>Manual</td>\n",
       "      <td>First Owner</td>\n",
       "      <td>Hyundai</td>\n",
       "    </tr>\n",
       "    <tr>\n",
       "      <th>4339</th>\n",
       "      <td>Renault KWID RXT</td>\n",
       "      <td>2016</td>\n",
       "      <td>225000</td>\n",
       "      <td>40000</td>\n",
       "      <td>Petrol</td>\n",
       "      <td>Individual</td>\n",
       "      <td>Manual</td>\n",
       "      <td>First Owner</td>\n",
       "      <td>Renault</td>\n",
       "    </tr>\n",
       "  </tbody>\n",
       "</table>\n",
       "<p>3577 rows × 9 columns</p>\n",
       "</div>"
      ],
      "text/plain": [
       "                                     name  year  selling_price  km_driven  \\\n",
       "0                           Maruti 800 AC  2007          60000      70000   \n",
       "1                Maruti Wagon R LXI Minor  2007         135000      50000   \n",
       "2                    Hyundai Verna 1.6 SX  2012         600000     100000   \n",
       "3                  Datsun RediGO T Option  2017         250000      46000   \n",
       "4                   Honda Amaze VX i-DTEC  2014         450000     141000   \n",
       "...                                   ...   ...            ...        ...   \n",
       "4335  Hyundai i20 Magna 1.4 CRDi (Diesel)  2014         409999      80000   \n",
       "4336           Hyundai i20 Magna 1.4 CRDi  2014         409999      80000   \n",
       "4337                  Maruti 800 AC BSIII  2009         110000      83000   \n",
       "4338     Hyundai Creta 1.6 CRDi SX Option  2016         865000      90000   \n",
       "4339                     Renault KWID RXT  2016         225000      40000   \n",
       "\n",
       "        fuel seller_type transmission         owner    brand  \n",
       "0     Petrol  Individual       Manual   First Owner   Maruti  \n",
       "1     Petrol  Individual       Manual   First Owner   Maruti  \n",
       "2     Diesel  Individual       Manual   First Owner  Hyundai  \n",
       "3     Petrol  Individual       Manual   First Owner   Datsun  \n",
       "4     Diesel  Individual       Manual  Second Owner    Honda  \n",
       "...      ...         ...          ...           ...      ...  \n",
       "4335  Diesel  Individual       Manual  Second Owner  Hyundai  \n",
       "4336  Diesel  Individual       Manual  Second Owner  Hyundai  \n",
       "4337  Petrol  Individual       Manual  Second Owner   Maruti  \n",
       "4338  Diesel  Individual       Manual   First Owner  Hyundai  \n",
       "4339  Petrol  Individual       Manual   First Owner  Renault  \n",
       "\n",
       "[3577 rows x 9 columns]"
      ]
     },
     "execution_count": 25,
     "metadata": {},
     "output_type": "execute_result"
    }
   ],
   "source": [
    "# Create a copy of the DataFrame to avoid modifying the original DataFrame directly\n",
    "car_data_cleaned = df.drop_duplicates().copy()\n",
    "\n",
    "# Feature Engineering - Extract brand from the 'name' column\n",
    "car_data_cleaned.loc[:, 'brand'] = car_data_cleaned['name'].apply(lambda x: x.split()[0])\n",
    "car_data_cleaned.to_csv('car_data_cleaned.csv', index=False)\n",
    "car_data_cleaned"
   ]
  },
  {
   "cell_type": "markdown",
   "id": "0036c30c",
   "metadata": {},
   "source": [
    "<font color=\"DarkOrange\">\n",
    "<b>Encoding Categorical Data"
   ]
  },
  {
   "cell_type": "code",
   "execution_count": 26,
   "id": "77da7430",
   "metadata": {},
   "outputs": [],
   "source": [
    "from sklearn.preprocessing import LabelEncoder, StandardScaler"
   ]
  },
  {
   "cell_type": "code",
   "execution_count": 27,
   "id": "f663aba1",
   "metadata": {},
   "outputs": [
    {
     "data": {
      "text/html": [
       "<div>\n",
       "<style scoped>\n",
       "    .dataframe tbody tr th:only-of-type {\n",
       "        vertical-align: middle;\n",
       "    }\n",
       "\n",
       "    .dataframe tbody tr th {\n",
       "        vertical-align: top;\n",
       "    }\n",
       "\n",
       "    .dataframe thead th {\n",
       "        text-align: right;\n",
       "    }\n",
       "</style>\n",
       "<table border=\"1\" class=\"dataframe\">\n",
       "  <thead>\n",
       "    <tr style=\"text-align: right;\">\n",
       "      <th></th>\n",
       "      <th>name</th>\n",
       "      <th>year</th>\n",
       "      <th>selling_price</th>\n",
       "      <th>km_driven</th>\n",
       "      <th>fuel</th>\n",
       "      <th>seller_type</th>\n",
       "      <th>transmission</th>\n",
       "      <th>owner</th>\n",
       "      <th>brand</th>\n",
       "      <th>fuel_encoded</th>\n",
       "      <th>seller_type_encoded</th>\n",
       "      <th>transmission_encoded</th>\n",
       "      <th>owner_encoded</th>\n",
       "      <th>brand_encoded</th>\n",
       "    </tr>\n",
       "  </thead>\n",
       "  <tbody>\n",
       "    <tr>\n",
       "      <th>0</th>\n",
       "      <td>Maruti 800 AC</td>\n",
       "      <td>2007</td>\n",
       "      <td>60000</td>\n",
       "      <td>70000</td>\n",
       "      <td>Petrol</td>\n",
       "      <td>Individual</td>\n",
       "      <td>Manual</td>\n",
       "      <td>First Owner</td>\n",
       "      <td>Maruti</td>\n",
       "      <td>4</td>\n",
       "      <td>1</td>\n",
       "      <td>1</td>\n",
       "      <td>0</td>\n",
       "      <td>18</td>\n",
       "    </tr>\n",
       "    <tr>\n",
       "      <th>1</th>\n",
       "      <td>Maruti Wagon R LXI Minor</td>\n",
       "      <td>2007</td>\n",
       "      <td>135000</td>\n",
       "      <td>50000</td>\n",
       "      <td>Petrol</td>\n",
       "      <td>Individual</td>\n",
       "      <td>Manual</td>\n",
       "      <td>First Owner</td>\n",
       "      <td>Maruti</td>\n",
       "      <td>4</td>\n",
       "      <td>1</td>\n",
       "      <td>1</td>\n",
       "      <td>0</td>\n",
       "      <td>18</td>\n",
       "    </tr>\n",
       "    <tr>\n",
       "      <th>2</th>\n",
       "      <td>Hyundai Verna 1.6 SX</td>\n",
       "      <td>2012</td>\n",
       "      <td>600000</td>\n",
       "      <td>100000</td>\n",
       "      <td>Diesel</td>\n",
       "      <td>Individual</td>\n",
       "      <td>Manual</td>\n",
       "      <td>First Owner</td>\n",
       "      <td>Hyundai</td>\n",
       "      <td>1</td>\n",
       "      <td>1</td>\n",
       "      <td>1</td>\n",
       "      <td>0</td>\n",
       "      <td>10</td>\n",
       "    </tr>\n",
       "    <tr>\n",
       "      <th>3</th>\n",
       "      <td>Datsun RediGO T Option</td>\n",
       "      <td>2017</td>\n",
       "      <td>250000</td>\n",
       "      <td>46000</td>\n",
       "      <td>Petrol</td>\n",
       "      <td>Individual</td>\n",
       "      <td>Manual</td>\n",
       "      <td>First Owner</td>\n",
       "      <td>Datsun</td>\n",
       "      <td>4</td>\n",
       "      <td>1</td>\n",
       "      <td>1</td>\n",
       "      <td>0</td>\n",
       "      <td>5</td>\n",
       "    </tr>\n",
       "    <tr>\n",
       "      <th>4</th>\n",
       "      <td>Honda Amaze VX i-DTEC</td>\n",
       "      <td>2014</td>\n",
       "      <td>450000</td>\n",
       "      <td>141000</td>\n",
       "      <td>Diesel</td>\n",
       "      <td>Individual</td>\n",
       "      <td>Manual</td>\n",
       "      <td>Second Owner</td>\n",
       "      <td>Honda</td>\n",
       "      <td>1</td>\n",
       "      <td>1</td>\n",
       "      <td>1</td>\n",
       "      <td>2</td>\n",
       "      <td>9</td>\n",
       "    </tr>\n",
       "    <tr>\n",
       "      <th>...</th>\n",
       "      <td>...</td>\n",
       "      <td>...</td>\n",
       "      <td>...</td>\n",
       "      <td>...</td>\n",
       "      <td>...</td>\n",
       "      <td>...</td>\n",
       "      <td>...</td>\n",
       "      <td>...</td>\n",
       "      <td>...</td>\n",
       "      <td>...</td>\n",
       "      <td>...</td>\n",
       "      <td>...</td>\n",
       "      <td>...</td>\n",
       "      <td>...</td>\n",
       "    </tr>\n",
       "    <tr>\n",
       "      <th>4335</th>\n",
       "      <td>Hyundai i20 Magna 1.4 CRDi (Diesel)</td>\n",
       "      <td>2014</td>\n",
       "      <td>409999</td>\n",
       "      <td>80000</td>\n",
       "      <td>Diesel</td>\n",
       "      <td>Individual</td>\n",
       "      <td>Manual</td>\n",
       "      <td>Second Owner</td>\n",
       "      <td>Hyundai</td>\n",
       "      <td>1</td>\n",
       "      <td>1</td>\n",
       "      <td>1</td>\n",
       "      <td>2</td>\n",
       "      <td>10</td>\n",
       "    </tr>\n",
       "    <tr>\n",
       "      <th>4336</th>\n",
       "      <td>Hyundai i20 Magna 1.4 CRDi</td>\n",
       "      <td>2014</td>\n",
       "      <td>409999</td>\n",
       "      <td>80000</td>\n",
       "      <td>Diesel</td>\n",
       "      <td>Individual</td>\n",
       "      <td>Manual</td>\n",
       "      <td>Second Owner</td>\n",
       "      <td>Hyundai</td>\n",
       "      <td>1</td>\n",
       "      <td>1</td>\n",
       "      <td>1</td>\n",
       "      <td>2</td>\n",
       "      <td>10</td>\n",
       "    </tr>\n",
       "    <tr>\n",
       "      <th>4337</th>\n",
       "      <td>Maruti 800 AC BSIII</td>\n",
       "      <td>2009</td>\n",
       "      <td>110000</td>\n",
       "      <td>83000</td>\n",
       "      <td>Petrol</td>\n",
       "      <td>Individual</td>\n",
       "      <td>Manual</td>\n",
       "      <td>Second Owner</td>\n",
       "      <td>Maruti</td>\n",
       "      <td>4</td>\n",
       "      <td>1</td>\n",
       "      <td>1</td>\n",
       "      <td>2</td>\n",
       "      <td>18</td>\n",
       "    </tr>\n",
       "    <tr>\n",
       "      <th>4338</th>\n",
       "      <td>Hyundai Creta 1.6 CRDi SX Option</td>\n",
       "      <td>2016</td>\n",
       "      <td>865000</td>\n",
       "      <td>90000</td>\n",
       "      <td>Diesel</td>\n",
       "      <td>Individual</td>\n",
       "      <td>Manual</td>\n",
       "      <td>First Owner</td>\n",
       "      <td>Hyundai</td>\n",
       "      <td>1</td>\n",
       "      <td>1</td>\n",
       "      <td>1</td>\n",
       "      <td>0</td>\n",
       "      <td>10</td>\n",
       "    </tr>\n",
       "    <tr>\n",
       "      <th>4339</th>\n",
       "      <td>Renault KWID RXT</td>\n",
       "      <td>2016</td>\n",
       "      <td>225000</td>\n",
       "      <td>40000</td>\n",
       "      <td>Petrol</td>\n",
       "      <td>Individual</td>\n",
       "      <td>Manual</td>\n",
       "      <td>First Owner</td>\n",
       "      <td>Renault</td>\n",
       "      <td>4</td>\n",
       "      <td>1</td>\n",
       "      <td>1</td>\n",
       "      <td>0</td>\n",
       "      <td>23</td>\n",
       "    </tr>\n",
       "  </tbody>\n",
       "</table>\n",
       "<p>3577 rows × 14 columns</p>\n",
       "</div>"
      ],
      "text/plain": [
       "                                     name  year  selling_price  km_driven  \\\n",
       "0                           Maruti 800 AC  2007          60000      70000   \n",
       "1                Maruti Wagon R LXI Minor  2007         135000      50000   \n",
       "2                    Hyundai Verna 1.6 SX  2012         600000     100000   \n",
       "3                  Datsun RediGO T Option  2017         250000      46000   \n",
       "4                   Honda Amaze VX i-DTEC  2014         450000     141000   \n",
       "...                                   ...   ...            ...        ...   \n",
       "4335  Hyundai i20 Magna 1.4 CRDi (Diesel)  2014         409999      80000   \n",
       "4336           Hyundai i20 Magna 1.4 CRDi  2014         409999      80000   \n",
       "4337                  Maruti 800 AC BSIII  2009         110000      83000   \n",
       "4338     Hyundai Creta 1.6 CRDi SX Option  2016         865000      90000   \n",
       "4339                     Renault KWID RXT  2016         225000      40000   \n",
       "\n",
       "        fuel seller_type transmission         owner    brand  fuel_encoded  \\\n",
       "0     Petrol  Individual       Manual   First Owner   Maruti             4   \n",
       "1     Petrol  Individual       Manual   First Owner   Maruti             4   \n",
       "2     Diesel  Individual       Manual   First Owner  Hyundai             1   \n",
       "3     Petrol  Individual       Manual   First Owner   Datsun             4   \n",
       "4     Diesel  Individual       Manual  Second Owner    Honda             1   \n",
       "...      ...         ...          ...           ...      ...           ...   \n",
       "4335  Diesel  Individual       Manual  Second Owner  Hyundai             1   \n",
       "4336  Diesel  Individual       Manual  Second Owner  Hyundai             1   \n",
       "4337  Petrol  Individual       Manual  Second Owner   Maruti             4   \n",
       "4338  Diesel  Individual       Manual   First Owner  Hyundai             1   \n",
       "4339  Petrol  Individual       Manual   First Owner  Renault             4   \n",
       "\n",
       "      seller_type_encoded  transmission_encoded  owner_encoded  brand_encoded  \n",
       "0                       1                     1              0             18  \n",
       "1                       1                     1              0             18  \n",
       "2                       1                     1              0             10  \n",
       "3                       1                     1              0              5  \n",
       "4                       1                     1              2              9  \n",
       "...                   ...                   ...            ...            ...  \n",
       "4335                    1                     1              2             10  \n",
       "4336                    1                     1              2             10  \n",
       "4337                    1                     1              2             18  \n",
       "4338                    1                     1              0             10  \n",
       "4339                    1                     1              0             23  \n",
       "\n",
       "[3577 rows x 14 columns]"
      ]
     },
     "execution_count": 27,
     "metadata": {},
     "output_type": "execute_result"
    }
   ],
   "source": [
    "# Encoding Categorical Variables\n",
    "label_encoder = LabelEncoder()\n",
    "car_data_cleaned['fuel_encoded'] = label_encoder.fit_transform(car_data_cleaned['fuel'])\n",
    "car_data_cleaned['seller_type_encoded'] = label_encoder.fit_transform(car_data_cleaned['seller_type'])\n",
    "car_data_cleaned['transmission_encoded'] = label_encoder.fit_transform(car_data_cleaned['transmission'])\n",
    "car_data_cleaned['owner_encoded'] = label_encoder.fit_transform(car_data_cleaned['owner'])\n",
    "car_data_cleaned['brand_encoded'] = label_encoder.fit_transform(car_data_cleaned['brand'])\n",
    "\n",
    "car_data_cleaned"
   ]
  },
  {
   "cell_type": "code",
   "execution_count": 28,
   "id": "d2460db9",
   "metadata": {},
   "outputs": [
    {
     "data": {
      "text/html": [
       "<div>\n",
       "<style scoped>\n",
       "    .dataframe tbody tr th:only-of-type {\n",
       "        vertical-align: middle;\n",
       "    }\n",
       "\n",
       "    .dataframe tbody tr th {\n",
       "        vertical-align: top;\n",
       "    }\n",
       "\n",
       "    .dataframe thead th {\n",
       "        text-align: right;\n",
       "    }\n",
       "</style>\n",
       "<table border=\"1\" class=\"dataframe\">\n",
       "  <thead>\n",
       "    <tr style=\"text-align: right;\">\n",
       "      <th></th>\n",
       "      <th>year</th>\n",
       "      <th>selling_price</th>\n",
       "      <th>km_driven</th>\n",
       "      <th>fuel_encoded</th>\n",
       "      <th>seller_type_encoded</th>\n",
       "      <th>transmission_encoded</th>\n",
       "      <th>owner_encoded</th>\n",
       "      <th>brand_encoded</th>\n",
       "    </tr>\n",
       "  </thead>\n",
       "  <tbody>\n",
       "    <tr>\n",
       "      <th>0</th>\n",
       "      <td>2007</td>\n",
       "      <td>60000</td>\n",
       "      <td>70000</td>\n",
       "      <td>4</td>\n",
       "      <td>1</td>\n",
       "      <td>1</td>\n",
       "      <td>0</td>\n",
       "      <td>18</td>\n",
       "    </tr>\n",
       "    <tr>\n",
       "      <th>1</th>\n",
       "      <td>2007</td>\n",
       "      <td>135000</td>\n",
       "      <td>50000</td>\n",
       "      <td>4</td>\n",
       "      <td>1</td>\n",
       "      <td>1</td>\n",
       "      <td>0</td>\n",
       "      <td>18</td>\n",
       "    </tr>\n",
       "    <tr>\n",
       "      <th>2</th>\n",
       "      <td>2012</td>\n",
       "      <td>600000</td>\n",
       "      <td>100000</td>\n",
       "      <td>1</td>\n",
       "      <td>1</td>\n",
       "      <td>1</td>\n",
       "      <td>0</td>\n",
       "      <td>10</td>\n",
       "    </tr>\n",
       "    <tr>\n",
       "      <th>3</th>\n",
       "      <td>2017</td>\n",
       "      <td>250000</td>\n",
       "      <td>46000</td>\n",
       "      <td>4</td>\n",
       "      <td>1</td>\n",
       "      <td>1</td>\n",
       "      <td>0</td>\n",
       "      <td>5</td>\n",
       "    </tr>\n",
       "    <tr>\n",
       "      <th>4</th>\n",
       "      <td>2014</td>\n",
       "      <td>450000</td>\n",
       "      <td>141000</td>\n",
       "      <td>1</td>\n",
       "      <td>1</td>\n",
       "      <td>1</td>\n",
       "      <td>2</td>\n",
       "      <td>9</td>\n",
       "    </tr>\n",
       "    <tr>\n",
       "      <th>...</th>\n",
       "      <td>...</td>\n",
       "      <td>...</td>\n",
       "      <td>...</td>\n",
       "      <td>...</td>\n",
       "      <td>...</td>\n",
       "      <td>...</td>\n",
       "      <td>...</td>\n",
       "      <td>...</td>\n",
       "    </tr>\n",
       "    <tr>\n",
       "      <th>4335</th>\n",
       "      <td>2014</td>\n",
       "      <td>409999</td>\n",
       "      <td>80000</td>\n",
       "      <td>1</td>\n",
       "      <td>1</td>\n",
       "      <td>1</td>\n",
       "      <td>2</td>\n",
       "      <td>10</td>\n",
       "    </tr>\n",
       "    <tr>\n",
       "      <th>4336</th>\n",
       "      <td>2014</td>\n",
       "      <td>409999</td>\n",
       "      <td>80000</td>\n",
       "      <td>1</td>\n",
       "      <td>1</td>\n",
       "      <td>1</td>\n",
       "      <td>2</td>\n",
       "      <td>10</td>\n",
       "    </tr>\n",
       "    <tr>\n",
       "      <th>4337</th>\n",
       "      <td>2009</td>\n",
       "      <td>110000</td>\n",
       "      <td>83000</td>\n",
       "      <td>4</td>\n",
       "      <td>1</td>\n",
       "      <td>1</td>\n",
       "      <td>2</td>\n",
       "      <td>18</td>\n",
       "    </tr>\n",
       "    <tr>\n",
       "      <th>4338</th>\n",
       "      <td>2016</td>\n",
       "      <td>865000</td>\n",
       "      <td>90000</td>\n",
       "      <td>1</td>\n",
       "      <td>1</td>\n",
       "      <td>1</td>\n",
       "      <td>0</td>\n",
       "      <td>10</td>\n",
       "    </tr>\n",
       "    <tr>\n",
       "      <th>4339</th>\n",
       "      <td>2016</td>\n",
       "      <td>225000</td>\n",
       "      <td>40000</td>\n",
       "      <td>4</td>\n",
       "      <td>1</td>\n",
       "      <td>1</td>\n",
       "      <td>0</td>\n",
       "      <td>23</td>\n",
       "    </tr>\n",
       "  </tbody>\n",
       "</table>\n",
       "<p>3577 rows × 8 columns</p>\n",
       "</div>"
      ],
      "text/plain": [
       "      year  selling_price  km_driven  fuel_encoded  seller_type_encoded  \\\n",
       "0     2007          60000      70000             4                    1   \n",
       "1     2007         135000      50000             4                    1   \n",
       "2     2012         600000     100000             1                    1   \n",
       "3     2017         250000      46000             4                    1   \n",
       "4     2014         450000     141000             1                    1   \n",
       "...    ...            ...        ...           ...                  ...   \n",
       "4335  2014         409999      80000             1                    1   \n",
       "4336  2014         409999      80000             1                    1   \n",
       "4337  2009         110000      83000             4                    1   \n",
       "4338  2016         865000      90000             1                    1   \n",
       "4339  2016         225000      40000             4                    1   \n",
       "\n",
       "      transmission_encoded  owner_encoded  brand_encoded  \n",
       "0                        1              0             18  \n",
       "1                        1              0             18  \n",
       "2                        1              0             10  \n",
       "3                        1              0              5  \n",
       "4                        1              2              9  \n",
       "...                    ...            ...            ...  \n",
       "4335                     1              2             10  \n",
       "4336                     1              2             10  \n",
       "4337                     1              2             18  \n",
       "4338                     1              0             10  \n",
       "4339                     1              0             23  \n",
       "\n",
       "[3577 rows x 8 columns]"
      ]
     },
     "execution_count": 28,
     "metadata": {},
     "output_type": "execute_result"
    }
   ],
   "source": [
    "# Drop original columns\n",
    "car_data_encoded = car_data_cleaned.drop(['name', 'fuel', 'seller_type', 'transmission', 'owner', 'brand'], axis=1)\n",
    "\n",
    "car_data_encoded"
   ]
  },
  {
   "cell_type": "code",
   "execution_count": 29,
   "id": "6d385139",
   "metadata": {},
   "outputs": [],
   "source": [
    "# save encoded dataset \n",
    "car_data_encoded.to_csv('car_data_encoded.csv', index=False)\n"
   ]
  },
  {
   "cell_type": "markdown",
   "id": "4265f639",
   "metadata": {},
   "source": [
    "<font color=\"DarkOrange\">\n",
    "<b>outlier treatment and data scaling "
   ]
  },
  {
   "cell_type": "code",
   "execution_count": 30,
   "id": "737f80a5",
   "metadata": {},
   "outputs": [
    {
     "name": "stdout",
     "output_type": "stream",
     "text": [
      "\n",
      "Data after outlier treatment:\n",
      "              year  selling_price      km_driven  fuel_encoded  \\\n",
      "count  3250.000000   3.250000e+03    3250.000000   3250.000000   \n",
      "mean   2013.053846   3.959742e+05   64819.204308      2.528923   \n",
      "std       3.994594   2.524738e+05   36017.672687      1.510788   \n",
      "min    2001.000000   2.000000e+04       1.000000      0.000000   \n",
      "25%    2011.000000   2.000000e+05   37245.750000      1.000000   \n",
      "50%    2013.500000   3.400000e+05   60000.000000      4.000000   \n",
      "75%    2016.000000   5.500000e+05   90000.000000      4.000000   \n",
      "max    2020.000000   1.200000e+06  166000.000000      4.000000   \n",
      "\n",
      "       seller_type_encoded  transmission_encoded  owner_encoded  brand_encoded  \n",
      "count          3250.000000           3250.000000    3250.000000    3250.000000  \n",
      "mean              0.814462              0.940923       0.900308      15.658769  \n",
      "std               0.411859              0.235805       1.265799       6.543379  \n",
      "min               0.000000              0.000000       0.000000       0.000000  \n",
      "25%               1.000000              1.000000       0.000000      10.000000  \n",
      "50%               1.000000              1.000000       0.000000      18.000000  \n",
      "75%               1.000000              1.000000       2.000000      18.000000  \n",
      "max               2.000000              1.000000       4.000000      27.000000  \n"
     ]
    }
   ],
   "source": [
    "# 7) Outlier Treatment using Interquartile Range (IQR) method\n",
    "numeric_columns = ['year', 'selling_price', 'km_driven']\n",
    "\n",
    "def remove_outliers(df, column):\n",
    "    Q1 = df[column].quantile(0.25)\n",
    "    Q3 = df[column].quantile(0.75)\n",
    "    IQR = Q3 - Q1\n",
    "    lower_bound = Q1 - 1.5 * IQR\n",
    "    upper_bound = Q3 + 1.5 * IQR\n",
    "    return df[(df[column] >= lower_bound) & (df[column] <= upper_bound)]\n",
    "\n",
    "for column in numeric_columns:\n",
    "    car_data_encoded = remove_outliers(car_data_encoded, column)\n",
    "\n",
    "print(\"\\nData after outlier treatment:\")\n",
    "print(car_data_encoded.describe())"
   ]
  },
  {
   "cell_type": "code",
   "execution_count": 31,
   "id": "52ba1e74",
   "metadata": {},
   "outputs": [],
   "source": [
    "# data scaling ---------\n",
    "\n",
    "# Split the data into features and target variable\n",
    "X = car_data_encoded[['year', 'km_driven', 'fuel_encoded', 'seller_type_encoded', 'transmission_encoded', 'owner_encoded', 'brand_encoded']]\n",
    "y = car_data_encoded['selling_price']\n",
    "\n"
   ]
  },
  {
   "cell_type": "code",
   "execution_count": 32,
   "id": "adb4689a",
   "metadata": {},
   "outputs": [],
   "source": [
    "# Split the data into training and testing sets\n",
    "X_train, X_test, y_train, y_test = train_test_split(X, y, test_size=0.2, random_state=42)\n",
    "\n",
    "# Scaling the data\n",
    "scaler = StandardScaler()\n",
    "X_train_scaled = scaler.fit_transform(X_train)\n",
    "X_test_scaled = scaler.transform(X_test)"
   ]
  },
  {
   "cell_type": "markdown",
   "id": "07c2a340",
   "metadata": {},
   "source": [
    "<font color=\"DarkOrange\">\n",
    "<b>Model Building"
   ]
  },
  {
   "cell_type": "code",
   "execution_count": 33,
   "id": "1bb9d2b0",
   "metadata": {},
   "outputs": [
    {
     "name": "stdout",
     "output_type": "stream",
     "text": [
      "Linear Regression Performance:\n",
      "MAE: 135481.20\n",
      "MSE: 30930976618.15\n",
      "RMSE: 175872.05\n",
      "R²: 0.51\n",
      "\n",
      "Ridge Regression Performance:\n",
      "MAE: 135478.15\n",
      "MSE: 30931634521.07\n",
      "RMSE: 175873.92\n",
      "R²: 0.51\n",
      "\n",
      "Lasso Regression Performance:\n",
      "MAE: 135481.22\n",
      "MSE: 30931020574.27\n",
      "RMSE: 175872.17\n",
      "R²: 0.51\n",
      "\n",
      "Decision Tree Regressor Performance:\n",
      "MAE: 134448.75\n",
      "MSE: 35833819069.51\n",
      "RMSE: 189298.23\n",
      "R²: 0.44\n",
      "\n",
      "K-Nearest Neighbors Regressor Performance:\n",
      "MAE: 125557.34\n",
      "MSE: 28914920417.74\n",
      "RMSE: 170043.88\n",
      "R²: 0.55\n",
      "\n",
      "Random Forest Regressor Performance:\n",
      "MAE: 113854.36\n",
      "MSE: 24379963059.81\n",
      "RMSE: 156140.84\n",
      "R²: 0.62\n",
      "\n",
      "AdaBoost Regressor Performance:\n",
      "MAE: 173909.86\n",
      "MSE: 41474326482.79\n",
      "RMSE: 203652.46\n",
      "R²: 0.35\n",
      "\n",
      "XGBoost Regressor Performance:\n",
      "MAE: 109085.55\n",
      "MSE: 22766254632.90\n",
      "RMSE: 150884.91\n",
      "R²: 0.64\n",
      "\n"
     ]
    }
   ],
   "source": [
    "from sklearn.linear_model import LinearRegression, Ridge, Lasso\n",
    "from sklearn.tree import DecisionTreeRegressor\n",
    "from sklearn.neighbors import KNeighborsRegressor\n",
    "from sklearn.ensemble import RandomForestRegressor, AdaBoostRegressor\n",
    "from xgboost import XGBRegressor\n",
    "from sklearn.metrics import mean_absolute_error, mean_squared_error, r2_score\n",
    "\n",
    "# Initialize models\n",
    "models = {\n",
    "    'Linear Regression': LinearRegression(),\n",
    "    'Ridge Regression': Ridge(),\n",
    "    'Lasso Regression': Lasso(),\n",
    "    'Decision Tree Regressor': DecisionTreeRegressor(),\n",
    "    'K-Nearest Neighbors Regressor': KNeighborsRegressor(),\n",
    "    'Random Forest Regressor': RandomForestRegressor(),\n",
    "    'AdaBoost Regressor': AdaBoostRegressor(),\n",
    "    'XGBoost Regressor': XGBRegressor(objective='reg:squarederror')\n",
    "}\n",
    "\n",
    "# Train and evaluate models\n",
    "for name, model in models.items():\n",
    "    model.fit(X_train_scaled, y_train)\n",
    "    y_pred = model.predict(X_test_scaled)\n",
    "    mae = mean_absolute_error(y_test, y_pred)\n",
    "    mse = mean_squared_error(y_test, y_pred)\n",
    "    rmse = np.sqrt(mse)\n",
    "    r2 = r2_score(y_test, y_pred)\n",
    "    \n",
    "    print(f'{name} Performance:')\n",
    "    print(f'MAE: {mae:.2f}')\n",
    "    print(f'MSE: {mse:.2f}')\n",
    "    print(f'RMSE: {rmse:.2f}')\n",
    "    print(f'R²: {r2:.2f}\\n')\n"
   ]
  },
  {
   "cell_type": "code",
   "execution_count": 34,
   "id": "b2a2b971",
   "metadata": {},
   "outputs": [
    {
     "name": "stdout",
     "output_type": "stream",
     "text": [
      "Fitting 3 folds for each of 20 candidates, totalling 60 fits\n",
      "Best parameters: {'n_estimators': 200, 'min_samples_split': 2, 'min_samples_leaf': 1, 'max_depth': 10, 'bootstrap': True}\n",
      "Best R2 score from cross-validation: 0.6360\n"
     ]
    }
   ],
   "source": [
    "from sklearn.model_selection import RandomizedSearchCV\n",
    "from sklearn.ensemble import RandomForestRegressor\n",
    "import numpy as np\n",
    "\n",
    "# Define a Random Forest Regressor\n",
    "rf = RandomForestRegressor()\n",
    "\n",
    "# Define a smaller search space for RandomizedSearchCV\n",
    "param_distributions = {\n",
    "    'n_estimators': [50, 100, 200],\n",
    "    'max_depth': [None, 10, 20],\n",
    "    'min_samples_split': [2, 5, 10],\n",
    "    'min_samples_leaf': [1, 2, 4],\n",
    "    'bootstrap': [True, False]\n",
    "}\n",
    "\n",
    "# Set up RandomizedSearchCV\n",
    "random_search = RandomizedSearchCV(\n",
    "    estimator=rf,\n",
    "    param_distributions=param_distributions,\n",
    "    n_iter=20,  # Number of parameter settings sampled\n",
    "    cv=3,  # Reduced number of cross-validation folds\n",
    "    n_jobs=-1,  # Use all cores\n",
    "    scoring='r2',  # Use R-squared as the scoring metric\n",
    "    random_state=42,  # Ensuring reproducibility\n",
    "    verbose=2  # Print output for progress tracking\n",
    ")\n",
    "\n",
    "# Fit RandomizedSearchCV\n",
    "random_search.fit(X_train_scaled, y_train)\n",
    "\n",
    "# Get the best model and parameters\n",
    "best_rf = random_search.best_estimator_\n",
    "print(f'Best parameters: {random_search.best_params_}')\n",
    "print(f'Best R2 score from cross-validation: {random_search.best_score_:.4f}')\n"
   ]
  },
  {
   "cell_type": "code",
   "execution_count": 35,
   "id": "a5d4519d",
   "metadata": {},
   "outputs": [
    {
     "name": "stdout",
     "output_type": "stream",
     "text": [
      "Optimized Model Performance:\n",
      "MAE: 109359.60\n",
      "MSE: 22159947268.50\n",
      "RMSE: 148862.18\n",
      "R²: 0.65\n"
     ]
    }
   ],
   "source": [
    "# Retrain the model with the best parameters\n",
    "best_rf.fit(X_train_scaled, y_train)\n",
    "\n",
    "# Evaluate the model performance\n",
    "y_pred_best = best_rf.predict(X_test_scaled)\n",
    "mae_best = mean_absolute_error(y_test, y_pred_best)\n",
    "mse_best = mean_squared_error(y_test, y_pred_best)\n",
    "rmse_best = np.sqrt(mse_best)\n",
    "r2_best = r2_score(y_test, y_pred_best)\n",
    "\n",
    "print(f'Optimized Model Performance:')\n",
    "print(f'MAE: {mae_best:.2f}')\n",
    "print(f'MSE: {mse_best:.2f}')\n",
    "print(f'RMSE: {rmse_best:.2f}')\n",
    "print(f'R²: {r2_best:.2f}')\n"
   ]
  },
  {
   "cell_type": "markdown",
   "id": "ad771c33",
   "metadata": {},
   "source": [
    "<font color=\"DarkOrange\">\n",
    "<b>save the model"
   ]
  },
  {
   "cell_type": "code",
   "execution_count": 70,
   "id": "fd3a0ed0",
   "metadata": {},
   "outputs": [],
   "source": [
    "import pickle\n",
    "\n",
    "# Save the model\n",
    "with open('best_model.pkl', 'wb') as file:\n",
    "    pickle.dump(best_rf, file)\n",
    "\n",
    "# Save the scaler for use in the Streamlit app\n",
    "with open('scaler.pkl', 'wb') as file:\n",
    "    pickle.dump(scaler, file)\n"
   ]
  },
  {
   "cell_type": "markdown",
   "id": "4421f81c",
   "metadata": {},
   "source": [
    "<font color=\"DarkOrange\">\n",
    "<b>Testing the Model\n"
   ]
  },
  {
   "cell_type": "code",
   "execution_count": 66,
   "id": "4be7fb55",
   "metadata": {},
   "outputs": [
    {
     "name": "stdout",
     "output_type": "stream",
     "text": [
      "      Actual      Predicted\n",
      "1956  120000  212360.554766\n",
      "737   110000  119548.081243\n",
      "3099  600000  669580.417253\n",
      "354   250000  112100.601370\n",
      "1595  250000  419856.969832\n",
      "2766   70000   76085.738268\n",
      "4153   90000  136890.851819\n",
      "3785  750000  550117.566482\n",
      "383   800000  783679.025095\n",
      "3304  690000  717429.836617\n",
      "3134  345000  250015.382806\n",
      "2486   75000  112577.920665\n",
      "1638  100000   99248.421191\n",
      "1544  700000  834863.438422\n",
      "2701  520000  508106.767135\n",
      "505   325000  242729.936123\n",
      "1186  170000  223650.561874\n",
      "3957  370000  197411.402780\n",
      "1643  130000  182425.048922\n",
      "3104  106000  169719.918199\n"
     ]
    }
   ],
   "source": [
    "# Randomly select 20 data points to test the saved model.\n",
    "\n",
    "# Load the model\n",
    "with open('best_model.pkl', 'rb') as file:\n",
    "    loaded_model = pickle.load(file)\n",
    "\n",
    "# Random sample of 20 data points\n",
    "sample_data = car_data_cleaned.sample(20)\n",
    "X_sample = sample_data[['year', 'km_driven', 'fuel_encoded', 'seller_type_encoded', 'transmission_encoded', 'owner_encoded', 'brand_encoded']]\n",
    "y_sample = sample_data['selling_price']\n",
    "X_sample_scaled = scaler.transform(X_sample)\n",
    "\n",
    "# Predictions\n",
    "sample_predictions = loaded_model.predict(X_sample_scaled)\n",
    "\n",
    "# Compare predictions with actual values\n",
    "comparison = pd.DataFrame({'Actual': y_sample, 'Predicted': sample_predictions})\n",
    "comparison.to_csv('sample_predictions.csv', index=False)\n",
    "print(comparison)\n"
   ]
  },
  {
   "cell_type": "markdown",
   "id": "e54449b3",
   "metadata": {},
   "source": [
    "<pre>-------------------------------------------------------------------------------------------------------------------"
   ]
  },
  {
   "cell_type": "markdown",
   "id": "4c442d11",
   "metadata": {},
   "source": [
    "<font color=\"Mediumpurple\">\n",
    "<b>Exploratory Data Analysis (EDA)"
   ]
  },
  {
   "cell_type": "code",
   "execution_count": 38,
   "id": "18993137",
   "metadata": {},
   "outputs": [],
   "source": [
    "import matplotlib.pyplot as plt\n",
    "import seaborn as sns"
   ]
  },
  {
   "cell_type": "code",
   "execution_count": 62,
   "id": "98506daa",
   "metadata": {},
   "outputs": [
    {
     "data": {
      "image/png": "[encoded data removed]",
      "text/plain": [
       "<Figure size 900x600 with 4 Axes>"
      ]
     },
     "metadata": {},
     "output_type": "display_data"
    }
   ],
   "source": [
    "# Visualize the distribution of categorical variables\n",
    "plt.figure(figsize=(9, 6))\n",
    "\n",
    "plt.subplot(2, 2, 1)\n",
    "sns.countplot(x='fuel', data=df)\n",
    "plt.title('Fuel Type Distribution')\n",
    "\n",
    "plt.subplot(2, 2, 2)\n",
    "sns.countplot(x='seller_type', data=df)\n",
    "plt.title('Seller Type Distribution')\n",
    "\n",
    "plt.subplot(2, 2, 3)\n",
    "sns.countplot(x='transmission', data=df)\n",
    "plt.title('Transmission Type Distribution')\n",
    "\n",
    "plt.subplot(2, 2, 4)\n",
    "sns.countplot(x='owner', data=df)\n",
    "plt.title('Owner Type Distribution')\n",
    "plt.xticks(rotation=45, ha='right')\n",
    "\n",
    "plt.tight_layout()\n",
    "plt.show()\n"
   ]
  },
  {
   "cell_type": "code",
   "execution_count": 44,
   "id": "e9b38e55",
   "metadata": {},
   "outputs": [
    {
     "data": {
      "image/png": "[encoded data removed]",
      "text/plain": [
       "<Figure size 900x400 with 2 Axes>"
      ]
     },
     "metadata": {},
     "output_type": "display_data"
    },
    {
     "data": {
      "image/png": "[encoded data removed]",
      "text/plain": [
       "<Figure size 700x400 with 2 Axes>"
      ]
     },
     "metadata": {},
     "output_type": "display_data"
    }
   ],
   "source": [
    "# Visualize the distribution of numerical variables\n",
    "plt.figure(figsize=(9, 4))\n",
    "\n",
    "plt.subplot(1, 2, 1)\n",
    "sns.histplot(df['selling_price'], kde=True, bins=30)\n",
    "plt.title('Distribution of Selling Price')\n",
    "\n",
    "plt.subplot(1, 2, 2)\n",
    "sns.histplot(df['km_driven'], kde=True, bins=30)\n",
    "plt.title('Distribution of Kilometers Driven')\n",
    "\n",
    "plt.tight_layout()\n",
    "plt.show()\n",
    "\n",
    "# Boxplots for numerical variables\n",
    "plt.figure(figsize=(7, 4))\n",
    "\n",
    "plt.subplot(1, 2, 1)\n",
    "sns.boxplot(y=df['selling_price'])\n",
    "plt.title('Boxplot of Selling Price')\n",
    "\n",
    "plt.subplot(1, 2, 2)\n",
    "sns.boxplot(y=df['km_driven'])\n",
    "plt.title('Boxplot of Kilometers Driven')\n",
    "\n",
    "plt.tight_layout()\n",
    "plt.show()\n"
   ]
  },
  {
   "cell_type": "code",
   "execution_count": 48,
   "id": "67aa41f2",
   "metadata": {},
   "outputs": [
    {
     "data": {
      "text/html": [
       "<div>\n",
       "<style scoped>\n",
       "    .dataframe tbody tr th:only-of-type {\n",
       "        vertical-align: middle;\n",
       "    }\n",
       "\n",
       "    .dataframe tbody tr th {\n",
       "        vertical-align: top;\n",
       "    }\n",
       "\n",
       "    .dataframe thead th {\n",
       "        text-align: right;\n",
       "    }\n",
       "</style>\n",
       "<table border=\"1\" class=\"dataframe\">\n",
       "  <thead>\n",
       "    <tr style=\"text-align: right;\">\n",
       "      <th></th>\n",
       "      <th>name</th>\n",
       "      <th>year</th>\n",
       "      <th>selling_price</th>\n",
       "      <th>km_driven</th>\n",
       "      <th>fuel</th>\n",
       "      <th>seller_type</th>\n",
       "      <th>transmission</th>\n",
       "      <th>owner</th>\n",
       "    </tr>\n",
       "  </thead>\n",
       "  <tbody>\n",
       "    <tr>\n",
       "      <th>0</th>\n",
       "      <td>Maruti 800 AC</td>\n",
       "      <td>2007</td>\n",
       "      <td>60000</td>\n",
       "      <td>70000</td>\n",
       "      <td>Petrol</td>\n",
       "      <td>Individual</td>\n",
       "      <td>Manual</td>\n",
       "      <td>First Owner</td>\n",
       "    </tr>\n",
       "    <tr>\n",
       "      <th>1</th>\n",
       "      <td>Maruti Wagon R LXI Minor</td>\n",
       "      <td>2007</td>\n",
       "      <td>135000</td>\n",
       "      <td>50000</td>\n",
       "      <td>Petrol</td>\n",
       "      <td>Individual</td>\n",
       "      <td>Manual</td>\n",
       "      <td>First Owner</td>\n",
       "    </tr>\n",
       "  </tbody>\n",
       "</table>\n",
       "</div>"
      ],
      "text/plain": [
       "                       name  year  selling_price  km_driven    fuel  \\\n",
       "0             Maruti 800 AC  2007          60000      70000  Petrol   \n",
       "1  Maruti Wagon R LXI Minor  2007         135000      50000  Petrol   \n",
       "\n",
       "  seller_type transmission        owner  \n",
       "0  Individual       Manual  First Owner  \n",
       "1  Individual       Manual  First Owner  "
      ]
     },
     "execution_count": 48,
     "metadata": {},
     "output_type": "execute_result"
    }
   ],
   "source": [
    "df.head(2)"
   ]
  },
  {
   "cell_type": "code",
   "execution_count": 51,
   "id": "ba957b90",
   "metadata": {},
   "outputs": [
    {
     "data": {
      "image/png": "[encoded data removed]",
      "text/plain": [
       "<Figure size 800x500 with 2 Axes>"
      ]
     },
     "metadata": {},
     "output_type": "display_data"
    }
   ],
   "source": [
    "# Correlation matrix\n",
    "plt.figure(figsize=(8, 5))\n",
    "correlation_matrix =car_data_encoded.corr()\n",
    "sns.heatmap(correlation_matrix, annot=True, cmap='coolwarm')\n",
    "plt.title('Correlation Heatmap')\n",
    "plt.show()\n"
   ]
  },
  {
   "cell_type": "code",
   "execution_count": 53,
   "id": "7d277606",
   "metadata": {},
   "outputs": [
    {
     "data": {
      "image/png": "[encoded data removed]",
      "text/plain": [
       "<Figure size 500x300 with 1 Axes>"
      ]
     },
     "metadata": {},
     "output_type": "display_data"
    },
    {
     "data": {
      "image/png": "[encoded data removed]",
      "text/plain": [
       "<Figure size 500x300 with 1 Axes>"
      ]
     },
     "metadata": {},
     "output_type": "display_data"
    }
   ],
   "source": [
    "# Scatter plot to visualize the relationship between year and selling price\n",
    "plt.figure(figsize=(5, 3))\n",
    "sns.scatterplot(x='year', y='selling_price', data=df)\n",
    "plt.title('Year vs. Selling Price')\n",
    "plt.show()\n",
    "\n",
    "# Scatter plot to visualize the relationship between km_driven and selling price\n",
    "plt.figure(figsize=(5, 3))\n",
    "sns.scatterplot(x='km_driven', y='selling_price', data=df)\n",
    "plt.title('Kilometers Driven vs. Selling Price')\n",
    "plt.show()\n"
   ]
  },
  {
   "cell_type": "code",
   "execution_count": 55,
   "id": "07cacdc6",
   "metadata": {},
   "outputs": [
    {
     "data": {
      "image/png": "[encoded data removed]",
      "text/plain": [
       "<Figure size 500x300 with 2 Axes>"
      ]
     },
     "metadata": {},
     "output_type": "display_data"
    }
   ],
   "source": [
    "# Outlier detection using boxplot\n",
    "plt.figure(figsize=(5, 3))\n",
    "\n",
    "plt.subplot(1, 2, 1)\n",
    "sns.boxplot(y=df['selling_price'])\n",
    "plt.title('Boxplot of Selling Price')\n",
    "\n",
    "plt.subplot(1, 2, 2)\n",
    "sns.boxplot(y=df['km_driven'])\n",
    "plt.title('Boxplot of Kilometers Driven')\n",
    "\n",
    "plt.tight_layout()\n",
    "plt.show()\n"
   ]
  },
  {
   "cell_type": "markdown",
   "id": "90ad4cd2",
   "metadata": {},
   "source": [
    "<font color=\"Mediumpurple\">\n",
    "<b>Insights from the Visualizations\n"
   ]
  },
  {
   "cell_type": "markdown",
   "id": "fd560cf3",
   "metadata": {},
   "source": [
    "<font color=\"RebeccaPurple\">\n",
    "Based on the visualizations and data analysis, you can draw several conclusions:<br><br>\n",
    "\n",
    "Fuel Type- Understand which fuel types are most common in the dataset. For instance, Petrol & diesel might be the most common fuel type, indicating market trends or preferences.<br><br>\n",
    "Seller Type and Transmission- Assess the distribution of seller types and transmission types (manual vs. automatic).<br><br>\n",
    "Numerical Data Distribution- Analyze how car prices and kilometers driven are distributed. For example, you might observe that most cars are within a specific price range or that there are some extreme values in the kilometers driven, which could indicate outliers.<br><br>\n",
    "Correlations- Check the correlation heatmap to identify any strong correlations between variables. For instance, the year might have a negative correlation with selling_price, indicating that older cars are typically cheaper."
   ]
  },
  {
   "cell_type": "markdown",
   "id": "bdd7fb8d",
   "metadata": {},
   "source": [
    "<font color=\"Mediumpurple\">\n",
    "<b>Useful Resources\n",
    "\n"
   ]
  },
  {
   "cell_type": "markdown",
   "id": "10cf92a1",
   "metadata": {},
   "source": [
    "- [Pandas Documentation](https://pandas.pydata.org/docs/)\n",
    "- [Matplotlib Documentation](https://matplotlib.org/stable/contents.html)\n",
    "- [Seaborn Documentation](https://seaborn.pydata.org/)\n"
   ]
  },
  {
   "cell_type": "code",
   "execution_count": null,
   "id": "0d9a5faf",
   "metadata": {},
   "outputs": [],
   "source": []
  }
 ],
 "metadata": {
  "kernelspec": {
   "display_name": "Python 3 (ipykernel)",
   "language": "python",
   "name": "python3"
  },
  "language_info": {
   "codemirror_mode": {
    "name": "ipython",
    "version": 3
   },
   "file_extension": ".py",
   "mimetype": "text/x-python",
   "name": "python",
   "nbconvert_exporter": "python",
   "pygments_lexer": "ipython3",
   "version": "3.11.5"
  }
 },
 "nbformat": 4,
 "nbformat_minor": 5
}
